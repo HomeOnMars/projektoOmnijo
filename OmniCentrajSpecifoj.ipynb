{
 "cells": [
  {
   "cell_type": "markdown",
   "id": "5e2e1533-d15c-4b1a-b9aa-31a1d0966858",
   "metadata": {},
   "source": [
    "OmniCentraj Specifoj  \n",
    "OmniCentro Specifications\n",
    "===============================================================================\n",
    "\n",
    "-------------------------------------------------------------------------------\n",
    "\n",
    "Background stories and technical specifications\n",
    "for my upcoming fictional Cities: Skylines 2 city *OmniCentro*.\n",
    "\n",
    "PDX Mod Link: ***TBD***\n",
    "\n",
    "\n",
    "Malgarantio  \n",
    "Disclaimer\n",
    "-------------------------------------------------------------------------------\n",
    "\n",
    "This is ***a work of fiction***.\n",
    "Names, characters, businesses, places, events and incidents\n",
    "are either the products of the author's imagination\n",
    "or used in a fictitious manner.\n",
    "Any resemblance to actual persons, living or dead, or actual events\n",
    "is purely coincidental.\n",
    "\n",
    "-------------------------------------------------------------------------------"
   ]
  },
  {
   "cell_type": "markdown",
   "id": "e28de884-9660-424a-9a68-6d93ea4a5ee9",
   "metadata": {},
   "source": [
    "Fonaj Rakontoj  \n",
    "Background Stories\n",
    "-------------------------------------------------------------------------------\n",
    "\n",
    "-------------------------------------------------------------------------------"
   ]
  },
  {
   "cell_type": "markdown",
   "id": "14c83ee8-5152-4496-b1af-24aaef74b68f",
   "metadata": {},
   "source": [
    "Teknikaj specifoj  \n",
    "Technical Specifications\n",
    "-------------------------------------------------------------------------------\n",
    "\n",
    "-------------------------------------------------------------------------------"
   ]
  },
  {
   "cell_type": "markdown",
   "id": "07c1b53a-120e-4065-9324-b14fc63e822f",
   "metadata": {},
   "source": [
    "### Trees\n",
    "\n",
    "-------------------------------------------------------------------------------\n",
    "\n",
    "\n",
    "#### Brushes Configuration\n",
    "\n",
    "- Brush N/A: Altitude  600m to 1100m\n",
    "  - Briches\n",
    "- Brush   1: Altitude 1100m to 1400m\n",
    "  - Briches\n",
    "  - Pines\n",
    "- Brush N/A: Altitude 1400m to 2000m\n",
    "  - Pines\n",
    "- Brush E-G: Altitude 2000m to 3500m\n",
    "  - Pines\n",
    "  - Spruces\n",
    "\n",
    "\n",
    "#### Species\n",
    "\n",
    "- Briches\n",
    "  - Esperanto Name: Betulo\n",
    "  - Altitude:  600m to 1400m\n",
    "  - Source: https://www.srs.fs.usda.gov/pubs/misc/ag_654/volume_2/betula/lenta.htm\n",
    "- Pines\n",
    "  - Esperanto Name: Pino\n",
    "  - Altitude: 1100m to 4000m\n",
    "  - Source: https://research.fs.usda.gov/rmrs/projects/high-elevation-white-pines\n",
    "- Spruces\n",
    "  - Esperanto Name: Piceo\n",
    "  - Altitude: 2000m to 3500m\n",
    "  - Source: https://csfs.colostate.edu/colorado-trees/colorados-major-tree-species/\n",
    "\n",
    "\n",
    "#### See Also\n",
    "\n",
    "- https://en.wikipedia.org/wiki/Tree_line#Tree_species_near_tree_line\n"
   ]
  },
  {
   "cell_type": "markdown",
   "id": "95824d43-767f-40b9-9d29-08c2b0d7e91e",
   "metadata": {},
   "source": [
    "# Temp"
   ]
  },
  {
   "cell_type": "code",
   "execution_count": 1,
   "id": "78941f55-85a0-4f78-880b-58494eda11b7",
   "metadata": {},
   "outputs": [
    {
     "data": {
      "text/latex": [
       "$3505.2 \\; \\mathrm{m}$"
      ],
      "text/plain": [
       "<Quantity 3505.2 m>"
      ]
     },
     "execution_count": 1,
     "metadata": {},
     "output_type": "execute_result"
    }
   ],
   "source": [
    "from astropy import units as u\n",
    "\n",
    "u.imperial.enable()\n",
    "(11500 * u.imperial.ft).si"
   ]
  },
  {
   "cell_type": "markdown",
   "id": "4a3b4a4a-a6b1-4c2b-8b85-bea8688f7caf",
   "metadata": {},
   "source": [
    "Project Omnijo\n",
    "===============================================================================\n",
    "\n",
    "\n",
    "Documents for my upcoming Cities: Skylines 2 cities,\n",
    "in the fictional country *Regno de Omnijo* (Kingdom of Omnijo)\n",
    "created by my imagination.\n",
    "\n",
    "\n",
    "Disclaimer\n",
    "-------------------------------------------------------------------------------\n",
    "\n",
    "This is ***a work of fiction***.\n",
    "Names, characters, businesses, places, events and incidents\n",
    "are either the products of the author's imagination\n",
    "or used in a fictitious manner.\n",
    "Any resemblance to actual persons, living or dead, or actual events\n",
    "is purely coincidental.\n",
    "\n",
    "-------------------------------------------------------------------------------"
   ]
  }
 ],
 "metadata": {
  "kernelspec": {
   "display_name": "Python 3 (ipykernel)",
   "language": "python",
   "name": "python3"
  },
  "language_info": {
   "codemirror_mode": {
    "name": "ipython",
    "version": 3
   },
   "file_extension": ".py",
   "mimetype": "text/x-python",
   "name": "python",
   "nbconvert_exporter": "python",
   "pygments_lexer": "ipython3",
   "version": "3.12.4"
  }
 },
 "nbformat": 4,
 "nbformat_minor": 5
}
