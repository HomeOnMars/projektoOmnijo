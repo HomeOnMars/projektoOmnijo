{
 "cells": [
  {
   "cell_type": "markdown",
   "id": "5e2e1533-d15c-4b1a-b9aa-31a1d0966858",
   "metadata": {},
   "source": [
    "<!-- -*- coding: utf-8 -*- -->\n",
    "\n",
    "OmniCentraj Specifoj  \n",
    "OmniCentro Specifications\n",
    "===============================================================================\n",
    "\n",
    "-------------------------------------------------------------------------------\n"
   ]
  },
  {
   "cell_type": "markdown",
   "id": "6da9c8c7-5b5b-4ed9-876e-166b2d6d2ccd",
   "metadata": {},
   "source": [
    "\n",
    "Background stories and technical specifications\n",
    "for my upcoming fictional Cities: Skylines 2 city *OmniCentro*.\n",
    "\n",
    "PDX Mod Link: ***TBD***\n"
   ]
  },
  {
   "cell_type": "markdown",
   "id": "8afd816a-e81c-4d89-b3f2-b17524ce7860",
   "metadata": {},
   "source": [
    "\n",
    "\n",
    "Malgarantio  \n",
    "Disclaimer\n",
    "-------------------------------------------------------------------------------\n",
    "\n",
    "This is ***a work of fiction***.\n",
    "Names, characters, businesses, places, events and incidents\n",
    "are either the products of the author's imagination\n",
    "or used in a fictitious manner.\n",
    "Any resemblance to actual persons, living or dead, or actual events\n",
    "is purely coincidental.\n",
    "\n",
    "This work © 2024 by \\_HomeOnMars\\_ is licensed under CC BY-NC-SA 4.0.\n",
    "To view a copy of this license, visit https://creativecommons.org/licenses/by-nc-sa/4.0/\n",
    "\n",
    "-------------------------------------------------------------------------------\n"
   ]
  },
  {
   "cell_type": "markdown",
   "id": "17d01e66-8a13-4a67-a0da-f40fcd7ad849",
   "metadata": {},
   "source": [
    "Detalaj Informoj  \n",
    "Detailed Information\n",
    "-------------------------------------------------------------------------------\n",
    "\n",
    "-------------------------------------------------------------------------------"
   ]
  },
  {
   "cell_type": "markdown",
   "id": "80668e1b-0c07-4bb3-b77e-4c66979ac8c4",
   "metadata": {},
   "source": [
    "### Bulletin\n",
    "\n",
    "-------------------------------------------------------------------------------"
   ]
  },
  {
   "cell_type": "markdown",
   "id": "95101ac5-26ab-4bce-95b4-d01f7101b897",
   "metadata": {},
   "source": [
    "\n",
    "\n",
    "#### Summary\n"
   ]
  },
  {
   "cell_type": "markdown",
   "id": "90e9cef7-e12a-47f2-9973-f788ac5527c0",
   "metadata": {},
   "source": [
    "(Again, everything here is fictional.)\n",
    "\n",
    "| Settings          |  Acronym | Name                |\n",
    "| :---------------- | :------: | :-----------------: |\n",
    "| City Name         | OC   | OmniCentro              |\n",
    "| Country Name      | RdO  | Regno de Omnijo         |\n",
    "| Government Name   | OCR  | Omnija Centra Registaro |\n",
    "| Local Authority   | OCG  | OmniCentra    Gvidado   |\n",
    "\n",
    "| [Fictional] Background | Name |\n",
    "| :---------------- | ---- |\n",
    "| City Background   | Planned New Capital |\n",
    "| Official Language | Esperanto (transitioning from English in the next 20 years) |\n",
    "| Country Leader    | Reĝino Serena de Omnijo |\n",
    "| City Designers    | Ĉuĉjo la Arkitekto  kaj  Ĝejnjo la Suvereno |\n"
   ]
  },
  {
   "cell_type": "markdown",
   "id": "9e2096cb-3a26-4dfa-8ed9-40bc363953b6",
   "metadata": {},
   "source": [
    "\n",
    "\n",
    "#### Government Structure (Part)\n"
   ]
  },
  {
   "cell_type": "markdown",
   "id": "fe024417-dc75-4894-8f82-5a027702e403",
   "metadata": {},
   "source": [
    "\n",
    "| Departments                  |  Acronym | Name |\n",
    "| ---------------------------- | :------: | ---- |\n",
    "| Department of Defence        | OCFD | OmniCentra Fako de Defendo |\n",
    "| Department of Education      | OCFE | OmniCentra Fako de Edukado |\n",
    "| Department of Fire and Rescue| OCFF | OmniCentra Fako de Fajro kaj Savo |\n",
    "| Department of Infrastructure | OCFI | OmniCentra Fako de Infrastrukturo |\n",
    "| Department of Police         | OCFP | OmniCentra Fako de Polico  |\n",
    "| Department of Health         | OCFS | OmniCentra Fako de Sano    |\n",
    "\n",
    "| Offices                      |  Acronym | Name |\n",
    "| ---------------------------- | :------: | ---- |\n",
    "| Office of Finance            | OCOF | Omnija Centra Oficejo de Fisko |\n",
    "| Office of Foreign Affairs    | OCOE | Omnija Centra Oficejo de Eksteraj Aferoj |\n",
    "| Office of Home    Affairs    | OCOI | Omnija Centra Oficejo de Internaj Aferoj |\n"
   ]
  },
  {
   "cell_type": "markdown",
   "id": "82560901-6aca-498f-a06b-77aede34fc51",
   "metadata": {},
   "source": [
    "\n",
    "\n",
    "#### Single letter abbreviations\n"
   ]
  },
  {
   "cell_type": "markdown",
   "id": "597c7e6b-86a5-4ee0-8d5f-a512c22304da",
   "metadata": {},
   "source": [
    "\n",
    "| Acronym | Esperanto     | English  |\n",
    "| :-----: | ------------- | -------- |\n",
    "|    N    | **N**orda     | Northern |\n",
    "|    S    | **S**uda      | Southern |\n",
    "|    R    | o**R**ienta   | Eastern  |\n",
    "|    K    | o**K**cidenta | Western  |\n",
    "|    L    | **L**iva      | Left     |\n",
    "|    C    | **C**entra    | Center   |\n",
    "|    D    | **D**ekstra   | Right    |\n",
    "|    P    | **P**lus / Maldekstruma / S->N / K->R | Plus / Counterclockwise / S->N / W->E |\n",
    "|    M    | **M**inus / Dekstruma / N->S / R->K   | Minus /       Clockwise / N->S / E->W |\n"
   ]
  },
  {
   "cell_type": "markdown",
   "id": "14c83ee8-5152-4496-b1af-24aaef74b68f",
   "metadata": {},
   "source": [
    "Teknikaj specifoj  \n",
    "Technical Specifications\n",
    "-------------------------------------------------------------------------------\n",
    "\n",
    "-------------------------------------------------------------------------------"
   ]
  },
  {
   "cell_type": "markdown",
   "id": "62423738-ce1c-4ace-8b67-4668b1192cc9",
   "metadata": {},
   "source": [
    "### Networks\n",
    "\n",
    "-------------------------------------------------------------------------------\n",
    "\n",
    "\n"
   ]
  },
  {
   "cell_type": "markdown",
   "id": "04c822e6-3b37-4fd2-9e42-11086cd52c3f",
   "metadata": {},
   "source": [
    "#### Roads\n"
   ]
  },
  {
   "cell_type": "markdown",
   "id": "6a4e42bc-a53a-43e3-9de8-d154691114a0",
   "metadata": {},
   "source": [
    "\n",
    "TBD.\n"
   ]
  },
  {
   "cell_type": "markdown",
   "id": "3e5e9da5-64bd-450b-a48e-60afe2b46d01",
   "metadata": {},
   "source": [
    "#### Rails\n"
   ]
  },
  {
   "cell_type": "markdown",
   "id": "4dd196cb-fb1d-44d6-8cf5-abf47c90968c",
   "metadata": {},
   "source": [
    "- Freight and old Passenger Railways\n",
    "  - Gradient  limit:\n",
    "    - [Recommended] $ \\leq 1.5\\% $.\n",
    "    - [Mandatory] $ < 3.5\\% $ (liberties have been taken due to steep terrain in the map- also it's more fun).\n",
    "    - Source: [2024-08-16] https://en.wikipedia.org/wiki/List_of_steepest_gradients_on_adhesion_railways#\n",
    "  - Curvature limit:\n",
    "    - [Recommended] $ \\geq 640 \\mathrm{m} $.\n",
    "      - This translates to a curve of (512m, 512m, $ \\geq 103\\deg $).\n",
    "      - ... or a curve of (256m, 256m, $ \\geq 137\\deg $).\n",
    "      - ... or a curve of (128m, 128m, $ \\geq 158\\deg $).\n",
    "      - ... or a curve of (640m, 640m, $  =    90\\deg $).\n",
    "      - Supporting $ v_\\mathrm{max} \\simeq 120 \\mathrm{km/h} $.\n",
    "      - Source: [2024-08-16] https://en.wikipedia.org/wiki/Minimum_railway_curve_radius#Speed_and_cant\n",
    "    - [Mandatory] $ \\geq 160 \\mathrm{m} $.\n",
    "      - This translates to a curve of (128m, 128m, $ \\geq 103\\deg $).\n",
    "      - ... or a curve of ( 64m,  64m, $ \\geq 137\\deg $).\n",
    "      - ... or a curve of (160m, 160m, $  =   90\\deg $).\n",
    "      - Supporting $ v_\\mathrm{max} \\simeq 40 \\mathrm{km/h} $.\n",
    "      - Source: [2024-08-16] https://en.wikipedia.org/wiki/Minimum_railway_curve_radius#List_of_selected_minimum_curve_radii\n",
    "        (Lithgow Zig Zag)\n",
    "  - Speed limit: [TBD]\n",
    "- High Speed Railways\n",
    "  - Gradient  limit:\n",
    "    - [Recommended] $ \\leq 3.5\\% $;\n",
    "    - [Mandatory] $ < 4\\% $.\n",
    "    - Source: [2024-08-16] https://en.wikipedia.org/wiki/List_of_steepest_gradients_on_adhesion_railways#\n",
    "  - Curvature limit:\n",
    "    - [Recommended] $ \\geq 4000 \\mathrm{m} $.\n",
    "      - This translates to a curve of (512m, 512m, $ \\geq 166\\deg $).\n",
    "      - Supporting $ v_\\mathrm{max} \\simeq 300 \\mathrm{km/h} $.\n",
    "    - [Mandatory] $ \\geq 3500 \\mathrm{m} $ (Except near stations).\n",
    "      - This translates to a curve of (512m, 512m, $ \\geq 164\\deg $).\n",
    "      <!--- Angle equation: 2*np.atan(3500/512)/np.pi*180 --->\n",
    "      - Supporting $ v_\\mathrm{max} \\simeq 250 \\mathrm{km/h} $.\n",
    "    - Source: [2024-08-16] https://en.wikipedia.org/wiki/Minimum_railway_curve_radius#List_of_selected_minimum_curve_radii\n",
    "  - Speed limit: $ 300 \\mathrm{km/h} $\n",
    "- Metro / Subway / Passenger Railways\n",
    "  - Gradient  limit:\n",
    "    - [Recommended] $ \\leq 5.5\\% $.\n",
    "    - [Mandatory] $ < 7\\% $.\n",
    "  - Curvature limit:\n",
    "    - TBD.\n",
    "  - Speed limit: $ 100 \\mathrm{km/h} $\n",
    "  - Source: [2024-08-16] https://en.wikipedia.org/wiki/List_of_steepest_gradients_on_adhesion_railways\n",
    "    (Höllentalbahn (Black Forest), Germany; Bernina Railway, Switzerland.)\n",
    "- Trams\n",
    "  - Gradient  limit:\n",
    "    - [Recommended] $ \\leq 10\\% $.\n",
    "    - [Mandatory] $ < 13.5\\% $.\n",
    "  - Speed limit: $ 90 \\mathrm{km/h} $\n",
    "  - Source: [2024-08-16] https://en.wikipedia.org/wiki/List_of_steepest_gradients_on_adhesion_railways#Examples\n",
    "    (Sheffield Supertram, Sheffield, England; Lisbon Tramways, Portugal.)"
   ]
  },
  {
   "cell_type": "code",
   "execution_count": 1,
   "id": "4c9f4914-d660-406c-bf5c-f650834d3886",
   "metadata": {},
   "outputs": [
    {
     "data": {
      "text/plain": [
       "np.float64(136.39718102729637)"
      ]
     },
     "execution_count": 1,
     "metadata": {},
     "output_type": "execute_result"
    }
   ],
   "source": [
    "import numpy as np\n",
    "2*np.atan(160/64) / np.pi * 180"
   ]
  },
  {
   "cell_type": "markdown",
   "id": "13c49f2d-96cd-4558-a8bd-adefd49a430f",
   "metadata": {},
   "source": [
    "### Trees\n",
    "\n",
    "-------------------------------------------------------------------------------\n",
    "\n",
    "\n"
   ]
  },
  {
   "cell_type": "markdown",
   "id": "da9ae158-fa44-4f3b-9523-d1195afcdb20",
   "metadata": {},
   "source": [
    "#### Brushes Configuration\n"
   ]
  },
  {
   "cell_type": "markdown",
   "id": "b24e4eee-35e8-427c-b0a6-e16126855085",
   "metadata": {},
   "source": [
    "- Brush W-D: Altitude  100m to  600m\n",
    "  - Briches\n",
    "  - etc.\n",
    "- Brush   2: Altitude  600m to 1000m\n",
    "  - Briches\n",
    "  - Pines\n",
    "- Brush   1: Altitude 1000m to 1400m\n",
    "  - Briches\n",
    "  - Pines\n",
    "  - Spruces\n",
    "- Brush E-G: Altitude 1400m to 2500m\n",
    "  - Pines\n",
    "  - Spruces\n",
    "- Brush N/A: Very steep terrain\n",
    "  - Spruces\n"
   ]
  },
  {
   "cell_type": "markdown",
   "id": "9d838e7e-980e-4a21-a3ea-339b6b2463f6",
   "metadata": {},
   "source": [
    "\n",
    "\n",
    "#### Species\n",
    "\n"
   ]
  },
  {
   "cell_type": "markdown",
   "id": "07c1b53a-120e-4065-9324-b14fc63e822f",
   "metadata": {
    "jp-MarkdownHeadingCollapsed": true
   },
   "source": [
    "- Briches\n",
    "  - Esperanto Name: Betulo\n",
    "  - Altitude:  600m to 1400m\n",
    "  - Source: https://www.srs.fs.usda.gov/pubs/misc/ag_654/volume_2/betula/lenta.htm\n",
    "- Pines\n",
    "  - Esperanto Name: Pino\n",
    "  - Altitude: 1100m to 4000m\n",
    "  - Source: https://research.fs.usda.gov/rmrs/projects/high-elevation-white-pines\n",
    "- Spruces\n",
    "  - Esperanto Name: Piceo\n",
    "  - Altitude: 2000m to 3500m\n",
    "  - Source: https://csfs.colostate.edu/colorado-trees/colorados-major-tree-species/"
   ]
  },
  {
   "cell_type": "markdown",
   "id": "dcee3c63-83f8-45cc-acb2-50bbe41cf847",
   "metadata": {},
   "source": [
    "\n",
    "\n",
    "#### See Also\n"
   ]
  },
  {
   "cell_type": "markdown",
   "id": "ebaa0063-71e4-427e-8b05-324445bb15bf",
   "metadata": {},
   "source": [
    "- https://en.wikipedia.org/wiki/Tree_line#Tree_species_near_tree_line"
   ]
  },
  {
   "cell_type": "markdown",
   "id": "e28de884-9660-424a-9a68-6d93ea4a5ee9",
   "metadata": {},
   "source": [
    "Fonaj Rakontoj  \n",
    "Background Stories\n",
    "-------------------------------------------------------------------------------\n",
    "\n",
    "-------------------------------------------------------------------------------"
   ]
  },
  {
   "cell_type": "markdown",
   "id": "95824d43-767f-40b9-9d29-08c2b0d7e91e",
   "metadata": {},
   "source": [
    "# Temp"
   ]
  },
  {
   "cell_type": "code",
   "execution_count": 1,
   "id": "78941f55-85a0-4f78-880b-58494eda11b7",
   "metadata": {},
   "outputs": [
    {
     "name": "stdout",
     "output_type": "stream",
     "text": [
      "The history saving thread hit an unexpected error (OperationalError('attempt to write a readonly database')).History will not be written to the database.\n"
     ]
    },
    {
     "data": {
      "text/latex": [
       "$3505.2 \\; \\mathrm{m}$"
      ],
      "text/plain": [
       "<Quantity 3505.2 m>"
      ]
     },
     "execution_count": 1,
     "metadata": {},
     "output_type": "execute_result"
    }
   ],
   "source": [
    "from astropy import units as u\n",
    "\n",
    "u.imperial.enable()\n",
    "(11500 * u.imperial.ft).si"
   ]
  },
  {
   "cell_type": "markdown",
   "id": "4a3b4a4a-a6b1-4c2b-8b85-bea8688f7caf",
   "metadata": {},
   "source": [
    "<!-- -*- coding: utf-8 -*- -->\n",
    "\n",
    "Project Omnijo\n",
    "===============================================================================\n",
    "\n",
    "\n"
   ]
  },
  {
   "cell_type": "markdown",
   "id": "18999008-246a-43b3-a04a-e55b2d4d2856",
   "metadata": {},
   "source": [
    "\n",
    "Documents for my upcoming Cities: Skylines 2 cities,\n",
    "in the fictional country *Regno de Omnijo* (Kingdom of Omnijo)\n",
    "created by my imagination.\n"
   ]
  },
  {
   "cell_type": "markdown",
   "id": "f5ef641b-423b-4315-abee-8d2011a1ce16",
   "metadata": {},
   "source": [
    "\n",
    "Disclaimer\n",
    "-------------------------------------------------------------------------------\n",
    "\n",
    "This is ***a work of fiction***.\n",
    "Names, characters, businesses, places, events and incidents\n",
    "are either the products of the author's imagination\n",
    "or used in a fictitious manner.\n",
    "Any resemblance to actual persons, living or dead, or actual events\n",
    "is purely coincidental.\n",
    "\n",
    "This work © 2024 by \\_HomeOnMars\\_ is licensed under CC BY-NC-SA 4.0.\n",
    "To view a copy of this license, visit https://creativecommons.org/licenses/by-nc-sa/4.0/\n",
    "\n",
    "-------------------------------------------------------------------------------\n"
   ]
  }
 ],
 "metadata": {
  "kernelspec": {
   "display_name": "Python 3 (ipykernel)",
   "language": "python",
   "name": "python3"
  },
  "language_info": {
   "codemirror_mode": {
    "name": "ipython",
    "version": 3
   },
   "file_extension": ".py",
   "mimetype": "text/x-python",
   "name": "python",
   "nbconvert_exporter": "python",
   "pygments_lexer": "ipython3",
   "version": "3.12.4"
  }
 },
 "nbformat": 4,
 "nbformat_minor": 5
}
