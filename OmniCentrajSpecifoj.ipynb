{
 "cells": [
  {
   "cell_type": "markdown",
   "id": "5e2e1533-d15c-4b1a-b9aa-31a1d0966858",
   "metadata": {},
   "source": [
    "<!-- -*- coding: utf-8 -*- -->\n",
    "\n",
    "OmniCentraj Specifoj  \n",
    "OmniCentro Specifications\n",
    "===============================================================================\n",
    "\n",
    "-------------------------------------------------------------------------------\n",
    "\n",
    "Background stories and technical specifications\n",
    "for my upcoming fictional Cities: Skylines 2 city *OmniCentro*.\n",
    "\n",
    "PDX Mod Link: ***TBD***\n",
    "\n",
    "\n",
    "Malgarantio  \n",
    "Disclaimer\n",
    "-------------------------------------------------------------------------------\n",
    "\n",
    "This is ***a work of fiction***.\n",
    "Names, characters, businesses, places, events and incidents\n",
    "are either the products of the author's imagination\n",
    "or used in a fictitious manner.\n",
    "Any resemblance to actual persons, living or dead, or actual events\n",
    "is purely coincidental.\n",
    "\n",
    "This work © 2024 by \\_HomeOnMars\\_ is licensed under CC BY-NC-SA 4.0.\n",
    "To view a copy of this license, visit https://creativecommons.org/licenses/by-nc-sa/4.0/\n",
    "\n",
    "-------------------------------------------------------------------------------"
   ]
  },
  {
   "cell_type": "markdown",
   "id": "17d01e66-8a13-4a67-a0da-f40fcd7ad849",
   "metadata": {},
   "source": [
    "Detalaj Informoj  \n",
    "Detailed Information\n",
    "-------------------------------------------------------------------------------\n",
    "\n",
    "-------------------------------------------------------------------------------"
   ]
  },
  {
   "cell_type": "markdown",
   "id": "90e9cef7-e12a-47f2-9973-f788ac5527c0",
   "metadata": {},
   "source": [
    "### Bulletin\n",
    "\n",
    "-------------------------------------------------------------------------------\n",
    "\n",
    "\n",
    "#### Summary\n",
    "\n",
    "| Summary           |  Acronym | Name                |\n",
    "| :---------------- | :------: | :-----------------: |\n",
    "| City Name         | OC   | OmniCentro              |\n",
    "| Country Name      | RdO  | Regno de Omnijo         |\n",
    "| Government Name   | OCR  | Omnija Centra Registaro |\n",
    "| Local Authority   | OCG  | OmniCentra    Gvidado   |\n",
    "\n",
    "| Background        | Name |\n",
    "| :---------------- | ---- |\n",
    "| City Background   | [fictional] Planned New Capital |\n",
    "| Official Language | Esperanto (transitioning from English in the next 20 years) |\n",
    "| Country Leader    | Reĝino Serena de Omnijo |\n",
    "| City Designers    | Ĉuĉjo la Arkitekto  kaj  Ĝejnjo la Suvereno |\n",
    "\n",
    "\n",
    "#### Government Structure (Part)\n",
    "\n",
    "| Departments                  |  Acronym | Name |\n",
    "| ---------------------------- | :------: | ---- |\n",
    "| Department of Defence        | OCFD | OmniCentra Fako de Defendo |\n",
    "| Department of Education      | OCFE | OmniCentra Fako de Edukado |\n",
    "| Department of Fire and Rescue| OCFF | OmniCentra Fako de Fajro kaj Savo |\n",
    "| Department of Infrastructure | OCFI | OmniCentra Fako de Infrastrukturo |\n",
    "| Department of Police         | OCFP | OmniCentra Fako de Polico  |\n",
    "| Department of Health         | OCFS | OmniCentra Fako de Sano    |\n",
    "\n",
    "| Offices                      |  Acronym | Name |\n",
    "| ---------------------------- | :------: | ---- |\n",
    "| Office of Finance            | OCOF | Omnija Centra Oficejo de Fisko |\n",
    "| Office of Foreign Affairs    | OCOE | Omnija Centra Oficejo de Eksteraj Aferoj |\n",
    "| Office of Home    Affairs    | OCOI | Omnija Centra Oficejo de Internaj Aferoj |"
   ]
  },
  {
   "cell_type": "markdown",
   "id": "14c83ee8-5152-4496-b1af-24aaef74b68f",
   "metadata": {},
   "source": [
    "Teknikaj specifoj  \n",
    "Technical Specifications\n",
    "-------------------------------------------------------------------------------\n",
    "\n",
    "-------------------------------------------------------------------------------"
   ]
  },
  {
   "cell_type": "markdown",
   "id": "07c1b53a-120e-4065-9324-b14fc63e822f",
   "metadata": {},
   "source": [
    "### Trees\n",
    "\n",
    "-------------------------------------------------------------------------------\n",
    "\n",
    "\n",
    "#### Brushes Configuration\n",
    "\n",
    "- Brush W-D: Altitude  100m to  600m\n",
    "  - Briches\n",
    "  - etc.\n",
    "- Brush   2: Altitude  600m to 1000m\n",
    "  - Briches\n",
    "  - Pines\n",
    "- Brush   1: Altitude 1000m to 1400m\n",
    "  - Briches\n",
    "  - Pines\n",
    "  - Spruces\n",
    "- Brush E-G: Altitude 1400m to 2500m\n",
    "  - Pines\n",
    "  - Spruces\n",
    "- Brush N/A: Very steep terrain\n",
    "  - Spruces\n",
    "\n",
    "\n",
    "#### Species\n",
    "\n",
    "- Briches\n",
    "  - Esperanto Name: Betulo\n",
    "  - Altitude:  600m to 1400m\n",
    "  - Source: https://www.srs.fs.usda.gov/pubs/misc/ag_654/volume_2/betula/lenta.htm\n",
    "- Pines\n",
    "  - Esperanto Name: Pino\n",
    "  - Altitude: 1100m to 4000m\n",
    "  - Source: https://research.fs.usda.gov/rmrs/projects/high-elevation-white-pines\n",
    "- Spruces\n",
    "  - Esperanto Name: Piceo\n",
    "  - Altitude: 2000m to 3500m\n",
    "  - Source: https://csfs.colostate.edu/colorado-trees/colorados-major-tree-species/\n",
    "\n",
    "\n",
    "#### See Also\n",
    "\n",
    "- https://en.wikipedia.org/wiki/Tree_line#Tree_species_near_tree_line\n"
   ]
  },
  {
   "cell_type": "markdown",
   "id": "e28de884-9660-424a-9a68-6d93ea4a5ee9",
   "metadata": {},
   "source": [
    "Fonaj Rakontoj  \n",
    "Background Stories\n",
    "-------------------------------------------------------------------------------\n",
    "\n",
    "-------------------------------------------------------------------------------"
   ]
  },
  {
   "cell_type": "markdown",
   "id": "95824d43-767f-40b9-9d29-08c2b0d7e91e",
   "metadata": {},
   "source": [
    "# Temp"
   ]
  },
  {
   "cell_type": "code",
   "execution_count": 1,
   "id": "78941f55-85a0-4f78-880b-58494eda11b7",
   "metadata": {},
   "outputs": [
    {
     "data": {
      "text/latex": [
       "$3505.2 \\; \\mathrm{m}$"
      ],
      "text/plain": [
       "<Quantity 3505.2 m>"
      ]
     },
     "execution_count": 1,
     "metadata": {},
     "output_type": "execute_result"
    }
   ],
   "source": [
    "from astropy import units as u\n",
    "\n",
    "u.imperial.enable()\n",
    "(11500 * u.imperial.ft).si"
   ]
  },
  {
   "cell_type": "markdown",
   "id": "4a3b4a4a-a6b1-4c2b-8b85-bea8688f7caf",
   "metadata": {},
   "source": [
    "<!-- -*- coding: utf-8 -*- -->\n",
    "\n",
    "Project Omnijo\n",
    "===============================================================================\n",
    "\n",
    "\n",
    "Documents for my upcoming Cities: Skylines 2 cities,\n",
    "in the fictional country *Regno de Omnijo* (Kingdom of Omnijo)\n",
    "created by my imagination.\n",
    "\n",
    "\n",
    "Disclaimer\n",
    "-------------------------------------------------------------------------------\n",
    "\n",
    "This is ***a work of fiction***.\n",
    "Names, characters, businesses, places, events and incidents\n",
    "are either the products of the author's imagination\n",
    "or used in a fictitious manner.\n",
    "Any resemblance to actual persons, living or dead, or actual events\n",
    "is purely coincidental.\n",
    "\n",
    "This work © 2024 by \\_HomeOnMars\\_ is licensed under CC BY-NC-SA 4.0.\n",
    "To view a copy of this license, visit https://creativecommons.org/licenses/by-nc-sa/4.0/\n",
    "\n",
    "-------------------------------------------------------------------------------"
   ]
  }
 ],
 "metadata": {
  "kernelspec": {
   "display_name": "Python 3 (ipykernel)",
   "language": "python",
   "name": "python3"
  },
  "language_info": {
   "codemirror_mode": {
    "name": "ipython",
    "version": 3
   },
   "file_extension": ".py",
   "mimetype": "text/x-python",
   "name": "python",
   "nbconvert_exporter": "python",
   "pygments_lexer": "ipython3",
   "version": "3.12.4"
  }
 },
 "nbformat": 4,
 "nbformat_minor": 5
}
