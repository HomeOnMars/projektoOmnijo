{
 "cells": [
  {
   "cell_type": "markdown",
   "id": "5e2e1533-d15c-4b1a-b9aa-31a1d0966858",
   "metadata": {},
   "source": [
    "<!-- -*- coding: utf-8 -*- -->\n",
    "\n",
    "OmniCentraj Specifoj  \n",
    "OmniCentro Specifications\n",
    "===============================================================================\n",
    "\n",
    "-------------------------------------------------------------------------------\n"
   ]
  },
  {
   "cell_type": "markdown",
   "id": "6da9c8c7-5b5b-4ed9-876e-166b2d6d2ccd",
   "metadata": {},
   "source": [
    "\n",
    "Background stories and technical specifications\n",
    "for my upcoming fictional Cities: Skylines 2 city *OmniCentro*.\n",
    "\n",
    "PDX Mod Link: ***TBD***\n"
   ]
  },
  {
   "cell_type": "markdown",
   "id": "8afd816a-e81c-4d89-b3f2-b17524ce7860",
   "metadata": {},
   "source": [
    "\n",
    "\n",
    "Malgarantio  \n",
    "Disclaimer\n",
    "-------------------------------------------------------------------------------\n",
    "\n",
    "This is ***a work of fiction***.\n",
    "Names, characters, businesses, places, events and incidents\n",
    "are either the products of the author's imagination\n",
    "or used in a fictitious manner.\n",
    "Any resemblance to actual persons, living or dead, or actual events\n",
    "is purely coincidental.\n",
    "\n",
    "This work © 2024 by \\_HomeOnMars\\_ is licensed under CC BY-NC-SA 4.0.\n",
    "To view a copy of this license, visit https://creativecommons.org/licenses/by-nc-sa/4.0/\n",
    "\n",
    "-------------------------------------------------------------------------------\n"
   ]
  },
  {
   "cell_type": "markdown",
   "id": "17d01e66-8a13-4a67-a0da-f40fcd7ad849",
   "metadata": {},
   "source": [
    "Detalaj Informoj  \n",
    "Detailed Information\n",
    "-------------------------------------------------------------------------------\n",
    "\n",
    "-------------------------------------------------------------------------------"
   ]
  },
  {
   "cell_type": "markdown",
   "id": "df830d60-cbc5-41b4-ac95-b18fbe8284fb",
   "metadata": {},
   "source": [
    "***Again, everything here is fictional.***"
   ]
  },
  {
   "cell_type": "markdown",
   "id": "80668e1b-0c07-4bb3-b77e-4c66979ac8c4",
   "metadata": {},
   "source": [
    "### Bulletin\n",
    "\n",
    "-------------------------------------------------------------------------------"
   ]
  },
  {
   "cell_type": "markdown",
   "id": "95101ac5-26ab-4bce-95b4-d01f7101b897",
   "metadata": {},
   "source": [
    "\n",
    "\n",
    "#### Summary\n"
   ]
  },
  {
   "cell_type": "markdown",
   "id": "90e9cef7-e12a-47f2-9973-f788ac5527c0",
   "metadata": {},
   "source": [
    "\n",
    "| Settings          |  Acronym | Name                |\n",
    "| :---------------- | :------: | :-----------------: |\n",
    "| City Name         | OC   | OmniCentro              |\n",
    "| Country Name      | RdO  | Regno de Omnijo         |\n",
    "| Government Name   | OCR  | Omnija Centra Registaro |\n",
    "| Local Authority   | OCG  | OmniCentra    Gvidado   |\n",
    "\n",
    "| [Fictional] Background | Name |\n",
    "| :---------------- | ---- |\n",
    "| City Background   | Planned New Capital |\n",
    "| Official Language | Esperanto (transitioning from English in the next 20 years) |\n",
    "| Country Leader    | Reĝino Serena de Omnijo |\n",
    "| City Designers    | Ĉuĉjo la Arkitekto  kaj  Ĝejnjo la Suverenino |\n"
   ]
  },
  {
   "cell_type": "markdown",
   "id": "9e2096cb-3a26-4dfa-8ed9-40bc363953b6",
   "metadata": {},
   "source": [
    "\n",
    "\n",
    "#### Government Structure (Part)\n"
   ]
  },
  {
   "cell_type": "markdown",
   "id": "fe024417-dc75-4894-8f82-5a027702e403",
   "metadata": {},
   "source": [
    "\n",
    "| Departments                  |  Acronym | Name |\n",
    "| ---------------------------- | :------: | ---- |\n",
    "| Department of Defence        | OCFD | Omnija Centra Fako de Defendo |\n",
    "| Department of Education      | OCFE | Omnija Centra Fako de Edukado |\n",
    "| Department of Fire and Rescue| OCFF | Omnija Centra Fako de Fajro kaj Savo |\n",
    "| Department of Infrastructure | OCFI | Omnija Centra Fako de Infrastrukturo |\n",
    "| Department of Police         | OCFP | Omnija Centra Fako de Polico  |\n",
    "| Department of Health         | OCFS | Omnija Centra Fako de Sano    |\n",
    "\n",
    "| Offices                      |  Acronym | Name |\n",
    "| ---------------------------- | :------: | ---- |\n",
    "| Office of Finance            | OCOF | Omnija Centra Oficejo de Fisko |\n",
    "| Office of Foreign Affairs    | OCOE | Omnija Centra Oficejo de Eksteraj Aferoj |\n",
    "| Office of Home    Affairs    | OCOI | Omnija Centra Oficejo de Internaj Aferoj |\n"
   ]
  },
  {
   "cell_type": "markdown",
   "id": "174c5028-3a4a-44e2-9bea-94edadde4883",
   "metadata": {},
   "source": [
    "### Sigloj<br>Acronyms\n",
    "\n",
    "-------------------------------------------------------------------------------"
   ]
  },
  {
   "cell_type": "markdown",
   "id": "82560901-6aca-498f-a06b-77aede34fc51",
   "metadata": {},
   "source": [
    "\n",
    "\n",
    "#### Direktoj<br>Directions\n"
   ]
  },
  {
   "cell_type": "markdown",
   "id": "597c7e6b-86a5-4ee0-8d5f-a512c22304da",
   "metadata": {},
   "source": [
    "\n",
    "| Siglo<br>Acronym | En esperanto<br>In Esperanto | En la angla<br>In English |\n",
    "| :-----: | ------------- | -------- |\n",
    "|    N    | **N**orda     | Northern |\n",
    "|    S    | **S**uda      | Southern |\n",
    "|    R    | o**R**ienta   | Eastern  |\n",
    "|    K    | o**K**cidenta | Western  |\n",
    "|    L    | **L**iva      | Left     |\n",
    "|    C    | **C**entra    | Center   |\n",
    "|    D    | **D**ekstra   | Right    |\n",
    "|    P    | **P**lus  / Pozitiva /<br>Maldekstruma /<br>S->N / K->R | Plus  / Positive /<br>Counterclockwise /<br>S->N / W->E |\n",
    "|    M    | **M**inus / Negativa /<br>Dekstruma    /<br>N->S / R->K | Minus / Negative /<br>       Clockwise /<br>N->S / E->W |\n",
    "\n",
    "Note: P/M follows positive and negative directions in mathematics (thus P for counterclockwise directions).\n"
   ]
  },
  {
   "cell_type": "markdown",
   "id": "9720c252-fb6d-4a4a-ad1e-b70443aebef6",
   "metadata": {},
   "source": [
    "\n",
    "\n",
    "#### Stratetoj<br>Lanes\n"
   ]
  },
  {
   "cell_type": "markdown",
   "id": "b8e717b3-7fea-4213-ae1a-22e4751b9506",
   "metadata": {},
   "source": [
    "\n",
    "| Siglo<br>Acronym | Strateta Tipo<br>(en esperanto) | Lane Type<br>(in English) | Strateta Larĝeco<br>Lane Width |\n",
    "| :-----: | ------------------- | ------------------- | :---------: |\n",
    "|    H    | **H**omo/Piediranto | Human/Pedestrian    | $\\geq$ 1m   |\n",
    "|    B    | **B**iciklo         | Bike                |        ?    |\n",
    "|    A    | **A**ŭtomobilo      | Car                 |        3m   |\n",
    "|    T    | **T**ransporto<br>(Buso, Tramo)   | Transit<br>(Bus, Tram)         |        3m   |\n",
    "|    V    | **V**agonaro/Trajno | Train               |        4m?  |\n",
    "|    G    | Neŭtrala **G**rundo<br>Meza Strio | Neutral Ground<br>Median Strip | $\\geq$ 1m   |\n",
    "|    i    | **i**nverse         | vice versa          | -           |\n",
    "\n",
    "De-capitalize for lanes with inverted directions.\n",
    "\n",
    "Road name format examples:\n",
    "\n",
    "- HBA2Gi\n",
    "  - pedestrain path (H) - bike (B) - 2 car lanes (A2) - median (G) - same for the other half of the road (i)\n",
    "  - Median road with bike\n",
    "- Ha2TGi\n",
    "  - pedestrain path (H) - 2 inverted car lanes (A2) - transit lane (T) - median (G) - same for the other half (i)\n",
    "  - Median road for diverging diamond interchanges\n",
    "- HA3a2h\n",
    "  - pedestrain path (H) - 3 car lanes (A3) - 2 inverted car lanes (A2) - inverted pedestrain path (h)\n",
    "  - Asymmetrical median road\n",
    "\n",
    "See also:\n",
    "\n",
    "- Road Builder mod by TDW: https://mods.paradoxplaza.com/mods/87190/Windows\n"
   ]
  },
  {
   "cell_type": "code",
   "execution_count": 1,
   "id": "ef203ea1-49e1-4da3-9833-b9adc4f2d090",
   "metadata": {},
   "outputs": [
    {
     "name": "stdout",
     "output_type": "stream",
     "text": [
      "6 \t E F J O U Z\n"
     ]
    }
   ],
   "source": [
    "\"\"\"Ascii Letters left:\"\"\"\n",
    "all__letters = \"A B C D E F G H I J K L M N O P R S T U V Z\".split()\n",
    "used_letters = \"N S R K L C D P M  H B A T V G I\".split()\n",
    "left_letters = [a for a in all__letters if a not in used_letters]\n",
    "print(len(left_letters), '\\t', ' '.join(left_letters))"
   ]
  },
  {
   "cell_type": "markdown",
   "id": "817767d2-32a8-42ea-b502-b7e462c63cde",
   "metadata": {},
   "source": [
    "\n",
    "\n",
    "#### Publika Transportaj Linioj<br>Public Transit Lines\n"
   ]
  },
  {
   "cell_type": "markdown",
   "id": "ad945d31-4be4-46c3-8c23-c17e530e244d",
   "metadata": {},
   "source": [
    "\n",
    "Note that the letters are overlapping other acronyms in other categories - and they are not necessarily the same. \n",
    "\n",
    "| Siglo<br>Acronym | Strateta Tipo<br>(en esperanto) | Lane Type<br>(in English) | Notes |\n",
    "| :-----: | ------------------- | ------------------- | ----------- |\n",
    "|    B    | **B**uso            | Bus                 | |\n",
    "|    T    | **T**ramo           | Tram                | |\n",
    "|    M    | **M**etroo          | Metro<br>Monorail<br>Train (Intracity) | |\n",
    "|    V    | **V**agonaro/Trajno | Train (Intercity)   | |\n",
    "|    P    | **P**ramo           | Ferry (Intracity)   | |\n",
    "|    Sx   | **Ŝ**ipo            | Ship (Intercity)    | |\n",
    "|    A    | **A**viadilo        | Airplane            | |\n",
    "|    K-   | **K**argo-          | Cargo-              | |\n",
    "\n",
    "Examples:\n",
    "\n",
    "- Bus route 123: B123\n",
    "- Train line 3: V3\n",
    "- Cargo train line 1: KV1\n",
    "- Cargo barge route 4: KP4\n",
    "- Cargo container ship route 2: KSx2\n",
    "- Cargo Airline 5: KA5"
   ]
  },
  {
   "cell_type": "markdown",
   "id": "14c83ee8-5152-4496-b1af-24aaef74b68f",
   "metadata": {},
   "source": [
    "Teknikaj specifoj  \n",
    "Technical Specifications\n",
    "-------------------------------------------------------------------------------\n",
    "\n",
    "-------------------------------------------------------------------------------"
   ]
  },
  {
   "cell_type": "markdown",
   "id": "9f3d4f6c-9b73-4c07-ab29-75da051c1801",
   "metadata": {},
   "source": [
    "***Warning:\n",
    "Information here is gathered from the internet for gameplay purposes,\n",
    "so not much effort has been spent on ensuring its accuracy.\n",
    "Some maybe incorrect or outdated.\n",
    "Some are just chosen arbitrarily.\n",
    "Use at your own risk.***"
   ]
  },
  {
   "cell_type": "markdown",
   "id": "62423738-ce1c-4ace-8b67-4668b1192cc9",
   "metadata": {},
   "source": [
    "### Networks\n",
    "\n",
    "-------------------------------------------------------------------------------\n",
    "\n",
    "\n"
   ]
  },
  {
   "cell_type": "markdown",
   "id": "04c822e6-3b37-4fd2-9e42-11086cd52c3f",
   "metadata": {},
   "source": [
    "#### Roads\n"
   ]
  },
  {
   "cell_type": "markdown",
   "id": "6a4e42bc-a53a-43e3-9de8-d154691114a0",
   "metadata": {},
   "source": [
    "- Highways\n",
    "  - Gradient $ s $ and Radius of Curvature $ R $ limit:\n",
    "    \n",
    "    |             | Gradient $ s $    | Radius of Curvature $ R $  | Speed limit $ v_\\mathrm{max} $ | $ \\theta_\\mathrm{512m} $ | $ \\theta_\\mathrm{256m} $ | $ \\theta_\\mathrm{128m} $ | $ \\theta_\\mathrm{64m} $ | Notes |\n",
    "    | ----------- | :---------------: | :------------------------: | :----------------------------: | --- | --- | --- | --- | ----- |\n",
    "    | -           |  $ \\leq  4  \\% $  |  $ \\geq  720 \\mathrm{m} $  |  $ \\simeq 120 \\mathrm{km/h} $  | $ \\geq 110\\degree $ | $ \\geq 141\\degree $ | $ \\geq 160\\degree $ | $ \\geq 170\\degree $ | |\n",
    "    | Recommended |  $ \\leq  6  \\% $  |  $ \\geq  400 \\mathrm{m} $  |  $ \\simeq 100 \\mathrm{km/h} $  | -                   | $ \\geq 115\\degree $ | $ \\geq 145\\degree $ | $ \\geq 162\\degree $ | |\n",
    "    | -           |  $ \\leq  8  \\% $  |  $ \\geq  216 \\mathrm{m} $  |  $ \\simeq  80 \\mathrm{km/h} $  | -                   | -                   | $ \\geq 119\\degree $ | $ \\geq 147\\degree $ | For ramps / In mountains |\n",
    "    | Hard Limit  |  $ \\leq 10  \\% $  |  $ \\geq  128 \\mathrm{m} $  |  $ \\simeq  60 \\mathrm{km/h} $  | -                   | -                   | -                     | $ \\geq 124\\degree $ | For ramps / In mountains |\n",
    "    \n",
    "    - $ \\theta_{d} $ refers to the angle displayed when building a 2-phase curve of $d$ - $d$ in game.\n",
    "      i.e., $ \\theta_\\mathrm{512m} $ is the angle displayed in game when building a curve with 1 bend and the shorter one of the two arms of the curve is at least 512m.\n",
    "    - Source: [2024-08-17] (US) https://en.wikipedia.org/wiki/Grade_(slope)#Roads\n",
    "    - Source: [2024-08-17] (EU) https://en.wikipedia.org/wiki/International_E-road_network#Road_design_standards\n",
    "      - According to the source,\n",
    "        $ R \\geq 1000 \\mathrm{m} $ for $ v_\\mathrm{max} \\simeq 140 \\mathrm{km/h} $; and\n",
    "        $ R \\geq  120 \\mathrm{m} $ for $ v_\\mathrm{max} \\simeq  60 \\mathrm{km/h} $.\n",
    "      - Assuming the radius of curvature limit $ R \\propto v_\\mathrm{max}^2 $,\n",
    "        i.e. $ R \\approx v_\\mathrm{max}^2 / (30 \\mathrm{mh/km}) $ for lower  limit,\n",
    "        and  $ R \\approx v_\\mathrm{max}^2 / (20 \\mathrm{mh/km}) $ for higher limit.\n",
    "- Arterial / Collector / Local Roads\n",
    "  - Gradient  limit:\n",
    "    (Arbitrarily set to:)\n",
    "    \n",
    "    |             | Gradient $ s $    | Speed limit $ v_\\mathrm{max} $ | Notes |\n",
    "    | ----------- | :---------------: | :----------------------------: | ----- |\n",
    "    | Recommended |  $ \\leq 10  \\% $  |  $ \\simeq  60 \\mathrm{km/h} $  | Arterial |\n",
    "    | Hard Limit  |  $ \\leq 36  \\% $  |  $ \\simeq  25 \\mathrm{km/h} $  | Local roads |\n",
    "    \n",
    "- Bike paths\n",
    "  - TBD\n",
    "- Ped  paths\n",
    "  - TBD"
   ]
  },
  {
   "cell_type": "markdown",
   "id": "3e5e9da5-64bd-450b-a48e-60afe2b46d01",
   "metadata": {},
   "source": [
    "#### Rails\n"
   ]
  },
  {
   "cell_type": "markdown",
   "id": "4dd196cb-fb1d-44d6-8cf5-abf47c90968c",
   "metadata": {},
   "source": [
    "- Freight and old Passenger Railways\n",
    "  - Gradient $ s $ and Radius of Curvature $ R $ limit:\n",
    "    \n",
    "    |             | Gradient $ s $    | Radius of Curvature $ R $  | Speed limit $ v_\\mathrm{max} $ | $ \\theta_\\mathrm{512m} $ | $ \\theta_\\mathrm{256m} $ | $ \\theta_\\mathrm{128m} $ | $ \\theta_\\mathrm{64m} $ | Real world examples |\n",
    "    | ----------- | :---------------: | :------------------------: | :----------------------------: | --- | --- | --- | --- | ------------------- |\n",
    "    | Recommended |  $ \\leq  1.5\\% $  |  $ \\geq  640 \\mathrm{m} $  |  $ \\simeq 120 \\mathrm{km/h} $  | $ \\geq 103\\degree $ | $ \\geq 137\\degree $ | $ \\geq 158\\degree $ | $ \\geq 169\\degree $ | |\n",
    "    | Hard Limit  |  $ \\leq  3.5\\% $  |  $ \\geq  160 \\mathrm{m} $  |  $ \\simeq  40 \\mathrm{km/h} $  | -                   | -                   | $ \\geq 103\\degree $ | $ \\geq 137\\degree $ | Lithgow Zig Zag |\n",
    "    \n",
    "    - $ \\theta_{d} $ refers to the angle displayed when building a 2-phase curve of $d$ - $d$ in game.\n",
    "      i.e., $ \\theta_\\mathrm{512m} $ is the angle displayed in game when building a curve with 1 bend and the shorter one of the two arms of the curve is at least 512m.\n",
    "    - Angle $ \\theta_{d} $ equation:\n",
    "      $ \\theta_{d} = 2 \\tan^{-1}{\\frac{R}{d}} $\n",
    "      ```\n",
    "          # python code\n",
    "          import numpy as np\n",
    "          # Remember to translate radian into degree\n",
    "          theta_deg = lambda R, d: np.ceil(2*np.atan(R/d)/np.pi*180)\n",
    "          # Example\n",
    "          print([(d, theta_deg(R=720, d=d)) for d in (512, 256, 128, 64)])\n",
    "          print(theta_deg(R=4000, d=512))\n",
    "      ```\n",
    "    - Source: [2024-08-16] ($ R $) https://en.wikipedia.org/wiki/Minimum_railway_curve_radius#Speed_and_cant\n",
    "    - Source: [2024-08-16] ($ R $) https://en.wikipedia.org/wiki/Minimum_railway_curve_radius#List_of_selected_minimum_curve_radii (Lithgow Zig Zag)\n",
    "    - Source: [2024-08-16] ($ s $) https://en.wikipedia.org/wiki/List_of_steepest_gradients_on_adhesion_railways#\n",
    "    - Note: Liberties have been taken for the hard limit of $s$ due to steep terrain in the map. Also steeper is more fun.\n",
    "  - Length limit (for track intersections): $ > 500\\mathrm{m} $ (25 cars with 20m per car)\n",
    "- High Speed Railways\n",
    "  - Gradient $ s $ and Radius of Curvature $ R $ limit:\n",
    "    \n",
    "    |             | Gradient $ s $    | Radius of Curvature $ R $  | Speed limit $ v_\\mathrm{max} $ | $ \\theta_\\mathrm{512m} $ | $ \\theta_\\mathrm{256m} $ | $ \\theta_\\mathrm{128m} $ | $ \\theta_\\mathrm{64m} $ | Real world examples |\n",
    "    | ----------- | :---------------: | :------------------------: | :----------------------------: | --- | --- | --- | --- | ------------------- |\n",
    "    | Recommended |  $ \\leq  3.5\\% $  |  $ \\geq 4000 \\mathrm{m} $  |  $ \\simeq 300 \\mathrm{km/h} $  | $ \\geq 166\\degree $ | $ \\geq 173\\degree $ | $ \\geq 177\\degree $ | $ \\geq 179\\degree $ | |\n",
    "    | Hard Limit  |  $ \\leq  4  \\% $  |  $ \\geq 3500 \\mathrm{m} $  |  $ \\simeq 250 \\mathrm{km/h} $  | $ \\geq 164\\degree $ | $ \\geq 172\\degree $ | $ \\geq 176\\degree $ | $ \\geq 178\\degree $ | |\n",
    "    \n",
    "    - Source: [2024-08-16] https://en.wikipedia.org/wiki/List_of_steepest_gradients_on_adhesion_railways#\n",
    "    - Source: [2024-08-16] https://en.wikipedia.org/wiki/Minimum_railway_curve_radius#List_of_selected_minimum_curve_radii\n",
    "- Metro / Subway / Passenger Railways\n",
    "  - Gradient $ s $ and Radius of Curvature $ R $ limit:\n",
    "    \n",
    "    |             | Gradient $ s $    | Radius of Curvature $ R $  | Speed limit $ v_\\mathrm{max} $ | $ \\theta_\\mathrm{512m} $ | $ \\theta_\\mathrm{256m} $ | $ \\theta_\\mathrm{128m} $ | $ \\theta_\\mathrm{64m} $ | Real world examples |\n",
    "    | ----------- | :---------------: | :------------------------: | :----------------------------: | --- | --- | --- | --- | ------------------- |\n",
    "    | Recommended |  $ \\leq  5.5\\% $  |  $ \\geq  128 \\mathrm{m} $  |  $ \\simeq 120 \\mathrm{km/h} $  | -                   | -                   | $ \\geq   90\\degree $  | $ \\geq 127\\degree $ | [$ s $] Höllentalbahn (Black Forest), Germany;<br>[$ R $] Bay Area Rapid Transit, United States. |\n",
    "    | Hard Limit  |  $ \\leq  7  \\% $  |  $ \\geq   64 \\mathrm{m} $  |  $ \\simeq 100 \\mathrm{km/h} $  | -                   | -                   | -                     | $ \\geq  90\\degree $ | [$ s $] Bernina Railway, Switzerland;<br>[$ R $] Central line, London Underground, United Kingdom. |\n",
    "    \n",
    "  - Source: [2024-08-16] ($ s $) https://en.wikipedia.org/wiki/List_of_steepest_gradients_on_adhesion_railways\n",
    "  - Source: [2024-08-17] ($ R $) https://en.wikipedia.org/wiki/Minimum_railway_curve_radius#List_of_selected_minimum_curve_radii\n",
    "- Trams\n",
    "  - Gradient $ s $ limit:\n",
    "    \n",
    "    |             | Gradient $ s $    | Speed limit $ v_\\mathrm{max} $ | Real world examples |\n",
    "    | ----------- | :---------------: | :----------------------------: | ------------------- |\n",
    "    | Recommended |  $ \\leq 10  \\% $  |  $ \\simeq  90 \\mathrm{km/h} $  | Sheffield Supertram, Sheffield |\n",
    "    | Hard Limit  |  $ \\leq 13.5\\% $  |  $ \\simeq  70?\\mathrm{km/h} $  | Lisbon Tramways, Portugal |\n",
    "    \n",
    "  - Source: [2024-08-16] https://en.wikipedia.org/wiki/List_of_steepest_gradients_on_adhesion_railways#Examples"
   ]
  },
  {
   "cell_type": "code",
   "execution_count": 2,
   "id": "4c9f4914-d660-406c-bf5c-f650834d3886",
   "metadata": {},
   "outputs": [
    {
     "name": "stdout",
     "output_type": "stream",
     "text": [
      "[(512, np.float64(166.0)), (256, np.float64(173.0)), (128, np.float64(177.0)), (64, np.float64(179.0))]\n"
     ]
    },
    {
     "data": {
      "text/plain": [
       "np.float64(163.0)"
      ]
     },
     "execution_count": 2,
     "metadata": {},
     "output_type": "execute_result"
    }
   ],
   "source": [
    "import numpy as np\n",
    "theta_deg = lambda R, d: np.ceil(2*np.atan(R/d)/np.pi*180)\n",
    "print([(d, theta_deg(R=4000, d=d)) for d in (512, 256, 128, 64)])\n",
    "theta_deg(R=720, d=108)"
   ]
  },
  {
   "cell_type": "markdown",
   "id": "13c49f2d-96cd-4558-a8bd-adefd49a430f",
   "metadata": {},
   "source": [
    "### Trees\n",
    "\n",
    "-------------------------------------------------------------------------------\n",
    "\n",
    "\n"
   ]
  },
  {
   "cell_type": "markdown",
   "id": "da9ae158-fa44-4f3b-9523-d1195afcdb20",
   "metadata": {},
   "source": [
    "#### Brushes Configuration\n"
   ]
  },
  {
   "cell_type": "markdown",
   "id": "b24e4eee-35e8-427c-b0a6-e16126855085",
   "metadata": {},
   "source": [
    "- Brush W-D: Altitude  100m to  600m\n",
    "  - Briches\n",
    "  - etc.\n",
    "- Brush   2: Altitude  600m to 1000m\n",
    "  - Briches\n",
    "  - Pines\n",
    "- Brush   1: Altitude 1000m to 1400m\n",
    "  - Briches\n",
    "  - Pines\n",
    "  - Spruces\n",
    "- Brush E-G: Altitude 1400m to 2500m\n",
    "  - Pines\n",
    "  - Spruces\n",
    "- Brush N/A: Very steep terrain\n",
    "  - Spruces\n"
   ]
  },
  {
   "cell_type": "markdown",
   "id": "9d838e7e-980e-4a21-a3ea-339b6b2463f6",
   "metadata": {},
   "source": [
    "\n",
    "\n",
    "#### Species\n",
    "\n"
   ]
  },
  {
   "cell_type": "markdown",
   "id": "07c1b53a-120e-4065-9324-b14fc63e822f",
   "metadata": {
    "jp-MarkdownHeadingCollapsed": true
   },
   "source": [
    "- Briches\n",
    "  - Esperanto Name: Betulo\n",
    "  - Altitude:  600m to 1400m\n",
    "  - Source: https://www.srs.fs.usda.gov/pubs/misc/ag_654/volume_2/betula/lenta.htm\n",
    "- Pines\n",
    "  - Esperanto Name: Pino\n",
    "  - Altitude: 1100m to 4000m\n",
    "  - Source: https://research.fs.usda.gov/rmrs/projects/high-elevation-white-pines\n",
    "- Spruces\n",
    "  - Esperanto Name: Piceo\n",
    "  - Altitude: 2000m to 3500m\n",
    "  - Source: https://csfs.colostate.edu/colorado-trees/colorados-major-tree-species/"
   ]
  },
  {
   "cell_type": "markdown",
   "id": "dcee3c63-83f8-45cc-acb2-50bbe41cf847",
   "metadata": {},
   "source": [
    "\n",
    "\n",
    "#### See Also\n"
   ]
  },
  {
   "cell_type": "markdown",
   "id": "ebaa0063-71e4-427e-8b05-324445bb15bf",
   "metadata": {},
   "source": [
    "- https://en.wikipedia.org/wiki/Tree_line#Tree_species_near_tree_line"
   ]
  },
  {
   "cell_type": "markdown",
   "id": "e28de884-9660-424a-9a68-6d93ea4a5ee9",
   "metadata": {},
   "source": [
    "Fonaj Rakontoj  \n",
    "Background Stories\n",
    "-------------------------------------------------------------------------------\n",
    "\n",
    "-------------------------------------------------------------------------------"
   ]
  },
  {
   "cell_type": "markdown",
   "id": "3e3cb1f4-2187-41fa-a878-720efab51a8f",
   "metadata": {},
   "source": [
    "***Again, everything here is fictional.***"
   ]
  },
  {
   "cell_type": "markdown",
   "id": "6222180b-a1d1-4b09-b2cd-3d4920afce15",
   "metadata": {},
   "source": [
    "(Coming soon.)"
   ]
  },
  {
   "cell_type": "markdown",
   "id": "95824d43-767f-40b9-9d29-08c2b0d7e91e",
   "metadata": {},
   "source": [
    "# Temp"
   ]
  },
  {
   "cell_type": "code",
   "execution_count": 3,
   "id": "78941f55-85a0-4f78-880b-58494eda11b7",
   "metadata": {},
   "outputs": [
    {
     "data": {
      "text/latex": [
       "$3505.2 \\; \\mathrm{m}$"
      ],
      "text/plain": [
       "<Quantity 3505.2 m>"
      ]
     },
     "execution_count": 3,
     "metadata": {},
     "output_type": "execute_result"
    }
   ],
   "source": [
    "from astropy import units as u\n",
    "\n",
    "u.imperial.enable()\n",
    "(11500 * u.imperial.ft).si"
   ]
  },
  {
   "cell_type": "markdown",
   "id": "4a3b4a4a-a6b1-4c2b-8b85-bea8688f7caf",
   "metadata": {},
   "source": [
    "<!-- -*- coding: utf-8 -*- -->\n",
    "\n",
    "Project Omnijo\n",
    "===============================================================================\n",
    "\n",
    "\n"
   ]
  },
  {
   "cell_type": "markdown",
   "id": "18999008-246a-43b3-a04a-e55b2d4d2856",
   "metadata": {},
   "source": [
    "\n",
    "Documents for my upcoming Cities: Skylines 2 cities,\n",
    "in the fictional country *Regno de Omnijo* (Kingdom of Omnijo)\n",
    "created by my imagination.\n"
   ]
  },
  {
   "cell_type": "markdown",
   "id": "f5ef641b-423b-4315-abee-8d2011a1ce16",
   "metadata": {},
   "source": [
    "\n",
    "Disclaimer\n",
    "-------------------------------------------------------------------------------\n",
    "\n",
    "This is ***a work of fiction***.\n",
    "Names, characters, businesses, places, events and incidents\n",
    "are either the products of the author's imagination\n",
    "or used in a fictitious manner.\n",
    "Any resemblance to actual persons, living or dead, or actual events\n",
    "is purely coincidental.\n",
    "\n",
    "This work © 2024 by \\_HomeOnMars\\_ is licensed under CC BY-NC-SA 4.0.\n",
    "To view a copy of this license, visit https://creativecommons.org/licenses/by-nc-sa/4.0/\n",
    "\n",
    "-------------------------------------------------------------------------------\n"
   ]
  }
 ],
 "metadata": {
  "kernelspec": {
   "display_name": "Python 3 (ipykernel)",
   "language": "python",
   "name": "python3"
  },
  "language_info": {
   "codemirror_mode": {
    "name": "ipython",
    "version": 3
   },
   "file_extension": ".py",
   "mimetype": "text/x-python",
   "name": "python",
   "nbconvert_exporter": "python",
   "pygments_lexer": "ipython3",
   "version": "3.12.4"
  }
 },
 "nbformat": 4,
 "nbformat_minor": 5
}
